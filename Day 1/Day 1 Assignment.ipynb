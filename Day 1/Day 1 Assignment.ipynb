{
 "cells": [
  {
   "cell_type": "markdown",
   "metadata": {},
   "source": [
    "# Question 1"
   ]
  },
  {
   "cell_type": "markdown",
   "metadata": {},
   "source": [
    "Given the following jumbled word, OBANWRI guess the correct English word.\n",
    "\n",
    "A. RANIBOW\n",
    "B. RAINBOW\n",
    "C. BOWRANI\n",
    "D. ROBWANI\n",
    "\n",
    "Ans: B.RAINBOW"
   ]
  },
  {
   "cell_type": "markdown",
   "metadata": {},
   "source": [
    "# Question 2"
   ]
  },
  {
   "cell_type": "raw",
   "metadata": {},
   "source": [
    "program to print Letsupgrade(all letter in uppercase)"
   ]
  },
  {
   "cell_type": "code",
   "execution_count": 1,
   "metadata": {},
   "outputs": [
    {
     "name": "stdout",
     "output_type": "stream",
     "text": [
      "LETS UPGRADE\n"
     ]
    }
   ],
   "source": [
    "\n",
    "#creating a string\n",
    "s1 = \"Lets Upgrade\"\n",
    "\n",
    "# converting all letter to uppercase and printing\n",
    "print(s1.upper())"
   ]
  },
  {
   "cell_type": "markdown",
   "metadata": {},
   "source": [
    "# Question 3"
   ]
  },
  {
   "cell_type": "raw",
   "metadata": {},
   "source": [
    "program that takes cost price and selling price as input and displays whether the transaction is a Profit or a Loss or Neither."
   ]
  },
  {
   "cell_type": "code",
   "execution_count": 10,
   "metadata": {},
   "outputs": [
    {
     "name": "stdout",
     "output_type": "stream",
     "text": [
      "19\n",
      "95\n",
      "Profit\n"
     ]
    }
   ],
   "source": [
    "\n",
    "# Getting input of cost price and selling price\n",
    "cp = int(input()) # cost price\n",
    "sp = int(input()) # selling price\n",
    "\n",
    "if cp<sp:\n",
    "    print(\"Profit\")\n",
    "elif cp>sp:\n",
    "    print(\"Loss\")\n",
    "else:\n",
    "    print(\"Neither\")\n"
   ]
  },
  {
   "cell_type": "markdown",
   "metadata": {},
   "source": [
    "# Question 4"
   ]
  },
  {
   "cell_type": "raw",
   "metadata": {},
   "source": [
    "program that takes an amount in Euros as input and give its equivalent in Rupees"
   ]
  },
  {
   "cell_type": "code",
   "execution_count": 18,
   "metadata": {},
   "outputs": [
    {
     "name": "stdout",
     "output_type": "stream",
     "text": [
      "18\n",
      "1440\n"
     ]
    }
   ],
   "source": [
    "\n",
    "# getting euros as input from user\n",
    "euros = int(input())\n",
    "\n",
    "# converting into rupees\n",
    "rupees = euros*80\n",
    "print(rupees)"
   ]
  }
 ],
 "metadata": {
  "kernelspec": {
   "display_name": "Python 3",
   "language": "python",
   "name": "python3"
  },
  "language_info": {
   "codemirror_mode": {
    "name": "ipython",
    "version": 3
   },
   "file_extension": ".py",
   "mimetype": "text/x-python",
   "name": "python",
   "nbconvert_exporter": "python",
   "pygments_lexer": "ipython3",
   "version": "3.8.3"
  }
 },
 "nbformat": 4,
 "nbformat_minor": 4
}
